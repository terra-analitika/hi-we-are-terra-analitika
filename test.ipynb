{
  "nbformat": 4,
  "nbformat_minor": 0,
  "metadata": {
    "colab": {
      "name": "test.ipynb",
      "provenance": [],
      "collapsed_sections": [],
      "include_colab_link": true
    },
    "kernelspec": {
      "name": "python3",
      "display_name": "Python 3"
    }
  },
  "cells": [
    {
      "cell_type": "markdown",
      "metadata": {
        "id": "view-in-github",
        "colab_type": "text"
      },
      "source": [
        "<a href=\"https://colab.research.google.com/github/terra-analitika/hi-we-are-terra-analitika/blob/master/test.ipynb\" target=\"_parent\"><img src=\"https://colab.research.google.com/assets/colab-badge.svg\" alt=\"Open In Colab\"/></a>"
      ]
    },
    {
      "cell_type": "code",
      "metadata": {
        "id": "_G4Br7OVuthM",
        "colab_type": "code",
        "colab": {}
      },
      "source": [
        "do add something into this test file :D\n",
        "\n",
        "This a test file\n",
        "Hi\n",
        "Hello\n",
        "\n",
        "Thankyou for writing here"
      ],
      "execution_count": 0,
      "outputs": []
    }
  ]
}