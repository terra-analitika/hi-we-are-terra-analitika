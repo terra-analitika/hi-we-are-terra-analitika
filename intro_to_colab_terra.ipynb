{
  "nbformat": 4,
  "nbformat_minor": 0,
  "metadata": {
    "colab": {
      "name": "intro-to-colab-terra.ipynb",
      "provenance": [],
      "collapsed_sections": [],
      "include_colab_link": true
    },
    "kernelspec": {
      "name": "python3",
      "display_name": "Python 3"
    }
  },
  "cells": [
    {
      "cell_type": "markdown",
      "metadata": {
        "id": "view-in-github",
        "colab_type": "text"
      },
      "source": [
        "<a href=\"https://colab.research.google.com/github/terra-analitika/hi-we-are-terra-analitika/blob/master/intro_to_colab_terra.ipynb\" target=\"_parent\"><img src=\"https://colab.research.google.com/assets/colab-badge.svg\" alt=\"Open In Colab\"/></a>"
      ]
    },
    {
      "cell_type": "markdown",
      "metadata": {
        "id": "XKVRn8HYDYFs",
        "colab_type": "text"
      },
      "source": [
        "# **Welcome :)**\n",
        "\n",
        "This will show you how to access and use `terra-analitika` Google Colab. **For non-Github user**, you can use your Google Drive account. Sign in first. "
      ]
    },
    {
      "cell_type": "markdown",
      "metadata": {
        "id": "t9-l375aDoH-",
        "colab_type": "text"
      },
      "source": [
        "Step 1. `colab-terra` has been shared with you. Move it to your \"My Drive\"\n",
        "\n",
        "![alt text](https://drive.google.com/uc?id=12xOrvF_SGDzoOg-Ri4F3j_-a7sjdgG2N)\n"
      ]
    },
    {
      "cell_type": "markdown",
      "metadata": {
        "id": "hMukqhGWDtul",
        "colab_type": "text"
      },
      "source": [
        "Step 2. Now `colab-terra` drive already is yours. \n",
        "\n",
        "![alt text](https://drive.google.com/uc?id=1htrGBJ6ooxpHtFZltNoljQ0HtblMKecF)\n"
      ]
    },
    {
      "cell_type": "markdown",
      "metadata": {
        "id": "ARpdXgSzEyfM",
        "colab_type": "text"
      },
      "source": [
        "Step 3. Open the `colab-terra` drive. There will be some notebooks or datasets there. There is `testio.ipynb` notebook to first have a try of Python in Google Colab. Double-click on it, and open with (click) Google Colaboratory. \n",
        "\n",
        "![alt text](https://drive.google.com/uc?id=1Pr_vJgTSsTTJhKBG8oD5vOSotul2xJB0)"
      ]
    },
    {
      "cell_type": "markdown",
      "metadata": {
        "id": "Dg5ST_4WHd9R",
        "colab_type": "text"
      },
      "source": [
        "Step 4. Now you have been in Google Colab. You are ready to play with your first Python notebook `testio.ipynb`. In this notebook you are not encouraged to add some codes or text in it. Just follow the instructions. There are sets of instructions you can follow and run yourself there. Spend time with it first. \n",
        "\n",
        "![alt text](https://drive.google.com/uc?id=1rwgl2z5K02LqxI43QCDYzungmMwzqYrZ)"
      ]
    },
    {
      "cell_type": "markdown",
      "metadata": {
        "id": "el30079RK0an",
        "colab_type": "text"
      },
      "source": [
        "Step 5. After you have the feel of starting to open and run notebooks in Google Colab (`testio.ipynb`), **we encourage you to try make a new notebook yourself**. `terra-analitika` is in fact designed so that you can contribute by \"coding your ideas\" and making a new notebook ! Let's learn how to make a new notebook. \n",
        "\n",
        "Go back to your Google Drive. Now go to `+ New`, click `More`, and select Google Colaboratory.\n",
        "\n",
        "![alt text](https://drive.google.com/uc?id=1FYKvb1YMtkhLiHE6XHMUhvH1Jii-x_ll)\n",
        "\n"
      ]
    },
    {
      "cell_type": "markdown",
      "metadata": {
        "id": "lATGn4vTMzVw",
        "colab_type": "text"
      },
      "source": [
        "Step 6. You will be now re-directed to a new blank notebook. Give it a title, for example `siberianhusky.ipynb`. Extension `.ipynb` is an extension for Python notebooks, not `.py`, so make sure you give it the right extension, ya!\n",
        "\n",
        "![alt text](https://drive.google.com/uc?id=17CWMDETUDSVrk-sRwYlFxPWm_Zu3hLma)"
      ]
    },
    {
      "cell_type": "markdown",
      "metadata": {
        "id": "4ss7zmQdNrsP",
        "colab_type": "text"
      },
      "source": [
        "Step 7. Now you can experiment with Python codes yourself in your new notebook. Now, you should save it. In Google Colab, go to `File`, then `Save and Pin Revisions`. Your new notebook and updates that you make will be shared to other users that use `terra-analitika`. \n"
      ]
    }
  ]
}