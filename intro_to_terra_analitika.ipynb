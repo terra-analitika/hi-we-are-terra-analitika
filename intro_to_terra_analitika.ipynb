{
  "nbformat": 4,
  "nbformat_minor": 0,
  "metadata": {
    "colab": {
      "name": "intro-to-terra-analitika.ipynb",
      "provenance": [],
      "collapsed_sections": [],
      "include_colab_link": true
    },
    "kernelspec": {
      "name": "python3",
      "display_name": "Python 3"
    }
  },
  "cells": [
    {
      "cell_type": "markdown",
      "metadata": {
        "id": "view-in-github",
        "colab_type": "text"
      },
      "source": [
        "<a href=\"https://colab.research.google.com/github/terra-analitika/hi-we-are-terra-analitika/blob/master/intro_to_terra_analitika.ipynb\" target=\"_parent\"><img src=\"https://colab.research.google.com/assets/colab-badge.svg\" alt=\"Open In Colab\"/></a>"
      ]
    },
    {
      "cell_type": "markdown",
      "metadata": {
        "id": "siWdtc4_rUN5",
        "colab_type": "text"
      },
      "source": [
        "# **Intro to terra-analitika**"
      ]
    }
  ]
}